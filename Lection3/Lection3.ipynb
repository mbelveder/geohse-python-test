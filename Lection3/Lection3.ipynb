{
 "cells": [
  {
   "cell_type": "markdown",
   "id": "d5a5eac5-4423-46f2-9401-dfe70d8a7e88",
   "metadata": {},
   "source": [
    "# **Лекция 3: функции и методы**\n",
    "\n",
    "## **План лекции**\n",
    "\n",
    "- Обсуждение плана лекции\n",
    "- Понятие функции\n",
    "- Примеры функций который мы уже использовали\n",
    "- Функции для списков и строк\n",
    "    - Вопросы?\n",
    "- Написание функций своими руками\n",
    "- Понятие объектов в `python`\n",
    "    - Вопросы?\n",
    "- Методы\n",
    "- Примеры методов списков и строк\n",
    "    - Вопросы?"
   ]
  },
  {
   "cell_type": "markdown",
   "id": "bd6d0eb6-8b34-4bc7-8e11-98022af8ce29",
   "metadata": {},
   "source": [
    "## **Функции**\n",
    "\n",
    "Функции в программировании чем-то похожи на функции в математике: они получают что-то на вход, внутри их происходит какой-то алгоритм, и они *возвращают* какое-то значение. Посмотрим пример из математики:\n",
    "\n",
    "![](pictures/pythagorean.png)"
   ]
  },
  {
   "cell_type": "markdown",
   "id": "b4b4e23a-77f3-4622-9c73-aa092d1b8321",
   "metadata": {},
   "source": [
    "Здесь мы знаем что гипотенуза в прямоугольном треугольнике (`h`) зависит от катетов (`x` и `y`). Таким образом, зная значения `x` и `y`, мы, с помощью известного нам алгоритма (нужно возвести `x` и `y` в квадрат, эти квадраты сложить, а потом извлечь из получишейся суммы корень) получить гипотенузу `h`. Таким образом, `h` является *функцией* ее *аргументов* `x` и `y`.\n",
    "\n",
    "Давайте посмотрим на примеры из более реальной жизни:\n",
    "- Вендиговый автомат: в качестве аргументов мы ему передаем деньги и номер ячейки, а как возвращаемое значение получаем баночку кока-колы\n",
    "- Подача документов в ВУЗ: в качестве аргументов передаем результаты экзаменов, официальные документы и разные дополнительные достижения, в качестве возвращаемого значения получаем зачисление или отказ\n",
    "\n",
    "В общем, функции можно описать следующей схемой:\n",
    "![](pictures/2.jpg)"
   ]
  },
  {
   "cell_type": "markdown",
   "id": "84c9a7e3-cef6-42ec-94e4-f47a3851e8d1",
   "metadata": {},
   "source": [
    "Наконец, можно воспринимать функции с точки зрения кода: функции позволяют выполнять блок кода по запросу. \n",
    "\n",
    "Давайте посмотрим на примеры функций! Часть примеров вы уже знаете: \n",
    "- `type()` &ndash; возвращает тип переменной\n",
    "- `str()` &ndash; конвертирует переменную в строку\n",
    "- `int()` &ndash; конвертирует переменную в `integer`\n",
    "\n",
    "Напомним примеры использования:"
   ]
  },
  {
   "cell_type": "code",
   "execution_count": 12,
   "id": "e474ec25-8c3e-4b76-9ca4-bf775cb3cdac",
   "metadata": {},
   "outputs": [
    {
     "name": "stdout",
     "output_type": "stream",
     "text": [
      "<class 'int'> <class 'float'> <class 'str'>\n"
     ]
    }
   ],
   "source": [
    "a = 1\n",
    "b = 1.0\n",
    "c = 'Hello world!'\n",
    "\n",
    "type_a = type(a)\n",
    "type_b = type(b)\n",
    "type_c = type(c)\n",
    "\n",
    "print(type_a, type_b, type_c)"
   ]
  },
  {
   "cell_type": "code",
   "execution_count": 13,
   "id": "ecd6f841-9083-4e3b-9d88-d35b3b0eb20e",
   "metadata": {},
   "outputs": [
    {
     "name": "stdout",
     "output_type": "stream",
     "text": [
      "<class 'float'> <class 'int'>\n"
     ]
    }
   ],
   "source": [
    "b = 1.0\n",
    "d = int(b)\n",
    "\n",
    "type_b = type(b)\n",
    "type_d = type(d)\n",
    "\n",
    "print(type(b), type_d) "
   ]
  },
  {
   "cell_type": "markdown",
   "id": "e675c1dd-48dd-414a-8a1b-30aff543f077",
   "metadata": {},
   "source": [
    "## **Функции для списков и строк**\n",
    "\n",
    "Функции существуют и для уже известных нам списков и строк. Например, есть функция `sorted`, котоаря позволяет нам сортировать список:"
   ]
  },
  {
   "cell_type": "code",
   "execution_count": 14,
   "id": "ac6be99d-4512-4b08-9c27-9742fdbe1516",
   "metadata": {},
   "outputs": [
    {
     "name": "stdout",
     "output_type": "stream",
     "text": [
      "[-20, 0.3333333333333333, 1, 3, 6.4, 7.5, 10]\n"
     ]
    }
   ],
   "source": [
    "l = [3, 6.4, 10, 1, -20, 30/4, 1/3]\n",
    "\n",
    "l_sorted = sorted(l)\n",
    "\n",
    "print(l_sorted)"
   ]
  },
  {
   "cell_type": "markdown",
   "id": "ea7ae502-94cd-4fc6-9d98-8ca710b3906d",
   "metadata": {},
   "source": [
    "> ☝ Далеко не обязательно присваивать возвращаемые значения переменным, можно их выводить сразу. Например, `print(type(b))` тоже сработает!"
   ]
  },
  {
   "cell_type": "markdown",
   "id": "a35eef1a-3b81-45bd-9e3b-d86bbaecd2d9",
   "metadata": {},
   "source": [
    "Одна из самых полезных функций `len()`, которую мы будем очень часто использовать, позволяет узнать длину *объекта* состоящего из нескольких элеменов (например списка или строки). Посмотрим как оно работает:"
   ]
  },
  {
   "cell_type": "code",
   "execution_count": 16,
   "id": "8c656ecb-b985-4c09-b25b-fffbed595ef5",
   "metadata": {},
   "outputs": [
    {
     "name": "stdout",
     "output_type": "stream",
     "text": [
      "Список l: [3, 6.4, 10, 1, -20, 7.5, 0.3333333333333333]\n",
      "Длина списка l: 7\n"
     ]
    }
   ],
   "source": [
    "l = [3, 6.4, 10, 1, -20, 30/4, 1/3]\n",
    "len_l = len(l)\n",
    "\n",
    "print('Список l:', l)\n",
    "print('Длина списка l:', len_l)"
   ]
  },
  {
   "cell_type": "markdown",
   "id": "3bcb0956-246d-4bf5-8e89-72f907c21faf",
   "metadata": {},
   "source": [
    "В чем же полезность? В том, что теперь мы можем в цикле проходиться по значениям индекса от `0` до `len(список)`! Смотрите:"
   ]
  },
  {
   "cell_type": "code",
   "execution_count": 18,
   "id": "a0030a50-496d-4e21-8590-58618bb96d32",
   "metadata": {},
   "outputs": [
    {
     "name": "stdout",
     "output_type": "stream",
     "text": [
      "3\n",
      "6.4\n",
      "10\n",
      "1\n",
      "-20\n",
      "7.5\n",
      "0.3333333333333333\n"
     ]
    }
   ],
   "source": [
    "for i in range(len(l)):\n",
    "    print(l[i])"
   ]
  },
  {
   "cell_type": "markdown",
   "id": "0352babc-ccbe-4ac7-a875-0a22ed10a3ba",
   "metadata": {},
   "source": [
    "Работает это и для строк:"
   ]
  },
  {
   "cell_type": "code",
   "execution_count": 24,
   "id": "ff61fb7d-1434-4572-a441-0a95e7138d21",
   "metadata": {},
   "outputs": [
    {
     "name": "stdout",
     "output_type": "stream",
     "text": [
      "H\n",
      "e\n",
      "l\n",
      "l\n",
      "o\n",
      " \n",
      "w\n",
      "o\n",
      "r\n",
      "l\n",
      "d\n",
      "!\n"
     ]
    }
   ],
   "source": [
    "sample = 'Hello world!'\n",
    "for i in range(len(sample)):\n",
    "    print(sample[i])"
   ]
  },
  {
   "cell_type": "markdown",
   "id": "115c3526-ec0b-478f-a3fa-4d8a003c5897",
   "metadata": {},
   "source": [
    "Помните как мы находили на прошлом практическом занятии максимальный и минимальный элемент списка? Конечно для этого есть свои функции:"
   ]
  },
  {
   "cell_type": "code",
   "execution_count": 21,
   "id": "5aa66586-260f-4695-9cf6-d8f4021e15d0",
   "metadata": {},
   "outputs": [
    {
     "name": "stdout",
     "output_type": "stream",
     "text": [
      "Максимальное значение в списке l: 10\n",
      "Минимальное значение в списке l: -20\n"
     ]
    }
   ],
   "source": [
    "print('Максимальное значение в списке l:', max(l))\n",
    "print('Минимальное значение в списке l:', min(l))"
   ]
  },
  {
   "cell_type": "markdown",
   "id": "a7605f59-4494-46fb-bb84-60cc7de51e8d",
   "metadata": {},
   "source": [
    "Есть и функция позволящая искать сумму элементов списка:"
   ]
  },
  {
   "cell_type": "code",
   "execution_count": 23,
   "id": "e12addd5-b8ea-4032-9dae-18846394607e",
   "metadata": {},
   "outputs": [
    {
     "name": "stdout",
     "output_type": "stream",
     "text": [
      "Сумма элементов списка l: 8.233333333333333\n"
     ]
    }
   ],
   "source": [
    "l = [3, 6.4, 10, 1, -20, 30/4, 1/3]\n",
    "\n",
    "print('Сумма элементов списка l:', sum(l))"
   ]
  },
  {
   "cell_type": "markdown",
   "id": "912994b1-35a4-43c0-83d5-c07c67c2bb90",
   "metadata": {},
   "source": [
    "У функций есть опциональные аргументы. Например у `sorted` есть опциональный аргумент `reverse`:"
   ]
  },
  {
   "cell_type": "code",
   "execution_count": 40,
   "id": "f3284063-5fb3-4bc6-9cb2-4b7486a07a83",
   "metadata": {},
   "outputs": [
    {
     "name": "stdout",
     "output_type": "stream",
     "text": [
      "Отсортированный список: [-20, 0.3333333333333333, 1, 3, 6.4, 7.5, 10]\n",
      "Список отсортированный в обратном порядке: [10, 7.5, 6.4, 3, 1, 0.3333333333333333, -20]\n"
     ]
    }
   ],
   "source": [
    "l = [3, 6.4, 10, 1, -20, 30/4, 1/3]\n",
    "\n",
    "l_sorted = sorted(l, reverse=False) # False является значением аргумента по умолчанию (дефолтным)\n",
    "l_sorted_reverse = sorted(l, reverse=True)\n",
    "\n",
    "print('Отсортированный список:', l_sorted)\n",
    "print('Список отсортированный в обратном порядке:', l_sorted_reverse)"
   ]
  },
  {
   "cell_type": "markdown",
   "id": "1576d2dc-d101-4497-ac4f-a653100bc309",
   "metadata": {},
   "source": [
    "## **Вопросы?**"
   ]
  },
  {
   "cell_type": "markdown",
   "id": "c4be87b3-2035-42df-a89d-74d1b90ab67f",
   "metadata": {},
   "source": [
    "## **Написание функций своими руками**\n",
    "\n",
    "Конечно мы можем и сами писать функции. Давайте посмотрим на синтаксис:\n",
    "\n",
    "``` python\n",
    "def название(аргумент1, аргумент2):\n",
    "    *код внутри функции*\n",
    "    *код внутри функции*\n",
    "    *код внутри функции*\n",
    "    return возвращаемое_значение\n",
    "```\n",
    "\n",
    "Напишем пример функции:"
   ]
  },
  {
   "cell_type": "code",
   "execution_count": 27,
   "id": "f8f05a99-dd48-4b4e-90a2-cf0a06410dad",
   "metadata": {},
   "outputs": [
    {
     "name": "stdout",
     "output_type": "stream",
     "text": [
      "10\n"
     ]
    }
   ],
   "source": [
    "def multiply(a, b):\n",
    "    c = a*b\n",
    "    return c\n",
    "\n",
    "a = 2\n",
    "b = 5\n",
    "    \n",
    "print(multiply(2,5))"
   ]
  },
  {
   "cell_type": "markdown",
   "id": "49ab35a0-69cc-4731-b802-ef51bfd06794",
   "metadata": {},
   "source": [
    "Функции не обязательно должны возвращать значения. Например функция `print` ничего не возвращает!\n",
    "\n",
    "Функция может даже не иметь никаких аргументов. Например:"
   ]
  },
  {
   "cell_type": "code",
   "execution_count": 29,
   "id": "02cadc80-8414-4c05-b276-42d5fbfe9aad",
   "metadata": {},
   "outputs": [
    {
     "name": "stdout",
     "output_type": "stream",
     "text": [
      "Hello world!\n"
     ]
    }
   ],
   "source": [
    "def hello_world():\n",
    "    print('Hello world!')\n",
    "\n",
    "hello_world()"
   ]
  },
  {
   "cell_type": "markdown",
   "id": "abb716ae-8451-4a69-9467-8c154f8339f3",
   "metadata": {},
   "source": [
    "> ☝ Обратите внимание, что даже если наша функция не принимает никаких аргументов, мы все равно должны вызывать ее со скобочками! `hello_world` ничего не выведет, обязательно нужно написать `hello_world()`"
   ]
  },
  {
   "cell_type": "markdown",
   "id": "92895803-32ce-4390-87e8-ac60802a8c6e",
   "metadata": {},
   "source": [
    "Конечно мы можем добавить и опциональный аргумент в нашу функцию:"
   ]
  },
  {
   "cell_type": "code",
   "execution_count": 41,
   "id": "e63fa581-e74e-48c1-99b4-6d86981aa611",
   "metadata": {},
   "outputs": [
    {
     "name": "stdout",
     "output_type": "stream",
     "text": [
      "100\n"
     ]
    }
   ],
   "source": [
    "def multiply(a, b, d=1):\n",
    "    c = a*b*d\n",
    "    return c\n",
    "\n",
    "a = 2\n",
    "b = 5\n",
    "d = 10\n",
    "    \n",
    "print(multiply(2, 5, 10))"
   ]
  },
  {
   "cell_type": "markdown",
   "id": "5117f534-c9a6-45c7-a5ad-868cb5264f2d",
   "metadata": {},
   "source": [
    "## **Понятия объектов в `python`**\n",
    "\n",
    "На самом деле, большинство переменных и типов данных являются более сложной конструкцией, чем кажутся на самом деле. Почти все что есть в `python` является объектами, и мы немного поговорим об объектно ориентированном подходе через две недели. \n",
    "\n",
    "## **Методы**\n",
    "\n",
    "Сейчас нам нужно знать, что в некоторые *типы данных* вшиты встроенные функции, которые называются *методами*. Они доступны через точку.\n",
    "\n",
    "### Методы строк\n",
    "\n",
    "Для начала посмотрим на простые методы строк:"
   ]
  },
  {
   "cell_type": "code",
   "execution_count": 34,
   "id": "06b71361-b394-4d32-ba89-0ff9679609be",
   "metadata": {},
   "outputs": [
    {
     "name": "stdout",
     "output_type": "stream",
     "text": [
      "Метод .upper() возвращает строчку капсом: HELLO WORLD!\n",
      "Метод .upper() возвращает строчку прописными (маленькими) буквами: hello world!\n"
     ]
    }
   ],
   "source": [
    "sample = 'Hello world!'\n",
    "print('Метод .upper() возвращает строчку капсом:', sample.upper())\n",
    "print('Метод .upper() возвращает строчку прописными (маленькими) буквами:', sample.lower())"
   ]
  },
  {
   "cell_type": "markdown",
   "id": "a025bf5e-f7dc-4815-9531-7976b3ce1ab3",
   "metadata": {},
   "source": [
    "> ☝ Обратите внимание, что многие методы не принимают на вход никаких аргументов. Строго говоря, любой метод принимает на вход как минимум один аргумент &ndash; объект, откуда к этом методу обратились. "
   ]
  },
  {
   "cell_type": "markdown",
   "id": "0c38d4e6-fa9c-4b8f-b467-19e046f29ad0",
   "metadata": {},
   "source": [
    "У строк очень [много методов](https://www.w3schools.com/python/python_ref_string.asp), однако мы с вами посмотрим только на самый полезные:\n",
    "\n",
    "`.find()` позволяет найти положение нужного символа или несколькоих символов (*подстроки* или *substring*) в строке. Возвращает этот метод индекс (позицию) этого символа в строке:"
   ]
  },
  {
   "cell_type": "code",
   "execution_count": 37,
   "id": "cc9401ba-0b31-47c2-9c30-290d3f8ba3c0",
   "metadata": {},
   "outputs": [
    {
     "name": "stdout",
     "output_type": "stream",
     "text": [
      "184\n",
      "с\n"
     ]
    }
   ],
   "source": [
    "# сделаем строку с огромным количеством английских символов c и спрячем туда одну кириллическую с\n",
    "ccc = 'c c c c c c c c c c c c c c c c c c c c c c c c c c c c c c c c c c c c c c c c c c c c c c c c c c c c c c c c c c c c c c c c c c c c c c c c c c c c c c c c c c c c c c c c c c c c с c c c c c c c c c c c c c c c c c c c c c c c c c c c c c c c c c c c c c c c c c c c c c c c c c c c c c c c c c c c c c c c c c c c c c c c c c c c c c'\n",
    "index = ccc.find('с') # теперь ищем кириллическую с, получаем ее индекс в строке\n",
    "print(index)\n",
    "print(ccc[index])"
   ]
  },
  {
   "cell_type": "markdown",
   "id": "7048e0e6-da10-464c-b598-81f1cf12a413",
   "metadata": {},
   "source": [
    "`.split()` позволяет разделять строки задав разделитель как аргумент. Возвращает этот метод список строк. Например:"
   ]
  },
  {
   "cell_type": "code",
   "execution_count": 46,
   "id": "e8fcf995-f34f-4a91-8a8c-528864cd4e62",
   "metadata": {},
   "outputs": [
    {
     "name": "stdout",
     "output_type": "stream",
     "text": [
      "['Заходят', 'Гегель,', 'Гаусс', 'и', 'Гарри', 'Дюбуа', 'в', 'бар,', 'а', 'там...']\n"
     ]
    }
   ],
   "source": [
    "sentence = 'Заходят Гегель, Гаусс и Гарри Дюбуа в бар, а там...'\n",
    "words = sentence.split(' ')\n",
    "\n",
    "print(words)"
   ]
  },
  {
   "cell_type": "markdown",
   "id": "85c75d93-c871-470a-b35a-098a6749a89c",
   "metadata": {},
   "source": [
    "### Методы списков\n",
    "\n",
    "Методы списков позволяют очень удобно добавлять элементы в списки, удалять оттуда элементы и удлиннять их. \n",
    "\n",
    "Посмотрим, как конкретно это можно делать:"
   ]
  },
  {
   "cell_type": "code",
   "execution_count": 48,
   "id": "4c807f9e-b627-47a1-add0-c49f7976bfd1",
   "metadata": {},
   "outputs": [
    {
     "name": "stdout",
     "output_type": "stream",
     "text": [
      "[3, 6.4, 10, 1, -20, 7.5, 0.3333333333333333, 20]\n"
     ]
    }
   ],
   "source": [
    "l = [3, 6.4, 10, 1, -20, 30/4, 1/3]\n",
    "\n",
    "l.append(20) # обратите внимание: этот метод ничего не возвращает, но меняет строку\n",
    "\n",
    "print(l) "
   ]
  },
  {
   "cell_type": "markdown",
   "id": "26fdd8d2-c408-40cb-a296-48ca4709242e",
   "metadata": {},
   "source": [
    "Типичный случай применения этого метода &ndash; создание списков прямо в цикле. Давайте возведем все элементы нашего списка в квадрат:"
   ]
  },
  {
   "cell_type": "code",
   "execution_count": 50,
   "id": "1117496e-2339-4037-b9ba-d499ed07ca94",
   "metadata": {},
   "outputs": [
    {
     "name": "stdout",
     "output_type": "stream",
     "text": [
      "Старый список: [3, 6.4, 10, 1, -20, 7.5, 0.3333333333333333]\n",
      "Новый список: [9, 40.96000000000001, 100, 1, 400, 56.25, 0.1111111111111111]\n"
     ]
    }
   ],
   "source": [
    "l = [3, 6.4, 10, 1, -20, 30/4, 1/3]\n",
    "new_l = [] # обязательно нужно сделать пустой массив, чтобы туда что-то добавлять\n",
    "\n",
    "for element in l:\n",
    "    new_l.append(element**2)\n",
    "\n",
    "print('Старый список:', l)\n",
    "print('Новый список:', new_l)"
   ]
  },
  {
   "cell_type": "markdown",
   "id": "0afb392f-2f18-4f29-947b-18edfa0883a3",
   "metadata": {},
   "source": [
    "<p>\n",
    "<details>\n",
    "<summary> ☝ ✨✨ <u> Заметка про добавление новых элементов в списки </u> </summary>\n",
    "\n",
    "> В `python` списки являются [динамическими массивами](https://ru.wikipedia.org/wiki/%D0%94%D0%B8%D0%BD%D0%B0%D0%BC%D0%B8%D1%87%D0%B5%D1%81%D0%BA%D0%B8%D0%B9_%D0%BC%D0%B0%D1%81%D1%81%D0%B8%D0%B2). Это означает, что каждый раз когда мы добавляем туда новый элемент, мы не создаем новый массив и стираем старый, а хитрым образом засовываем новый элемент в уже существующий массив, удлинняя его. Во многих языках массивы стандартно являются статическими, и добавление новых элементов в массив является непростой задачей! \n",
    "\n",
    "</details>\n",
    "</p>"
   ]
  },
  {
   "cell_type": "markdown",
   "id": "230e6b3f-b9b2-4aaa-982c-e8bea3983b1f",
   "metadata": {},
   "source": [
    "А что если нам нужно добавить не один, а несколько элементов в список? Для этого служит метод `.extend()`:"
   ]
  },
  {
   "cell_type": "code",
   "execution_count": 52,
   "id": "7c08b0f7-bbd6-48a0-b450-afd3325d457d",
   "metadata": {},
   "outputs": [
    {
     "name": "stdout",
     "output_type": "stream",
     "text": [
      "[3, 6.4, 10, 1, -20, 7.5, 0.3333333333333333, 1, 3, 1, 2]\n"
     ]
    }
   ],
   "source": [
    "l = [3, 6.4, 10, 1, -20, 30/4, 1/3]\n",
    "\n",
    "extension = [1, 3, 1, 2]\n",
    "\n",
    "l.extend(extension)\n",
    "\n",
    "print(l)"
   ]
  },
  {
   "cell_type": "markdown",
   "id": "c83016d0-4367-404a-8e5b-37f2ef520e2d",
   "metadata": {},
   "source": [
    "Если вам интересно, посмотрите все методы списков:\n",
    "- [на английском](https://www.w3schools.com/python/python_ref_list.asp)\n",
    "- [на русском](https://pythonworld.ru/tipy-dannyx-v-python/spiski-list-funkcii-i-metody-spiskov.html)"
   ]
  },
  {
   "cell_type": "markdown",
   "id": "3b9e153a-d7c3-4d95-b7fc-65ea4d6550e4",
   "metadata": {},
   "source": [
    "<p>\n",
    "<details>\n",
    "<summary> ☝ ✨ <u> Сеты в python </u> </summary>\n",
    "\n",
    "В `python` есть еще один тип данных, который имеет довольно нишевое использование: они позволяют получить только уникальные элементы из списка. Например:\n",
    "\n",
    "``` python\n",
    "l = [1, 1, 2, 3, 3, 4, 5, 6, 6]\n",
    "print(set(l)) # выводит {1, 2, 3, 4, 5, 6}\n",
    "```\n",
    "\n",
    "В целом, это массив, который не позволяет вносить в него изменения и в нем не может быть дубликатов.\n",
    "\n",
    "</details>\n",
    "</p>"
   ]
  }
 ],
 "metadata": {
  "kernelspec": {
   "display_name": "Python 3 (ipykernel)",
   "language": "python",
   "name": "python3"
  },
  "language_info": {
   "codemirror_mode": {
    "name": "ipython",
    "version": 3
   },
   "file_extension": ".py",
   "mimetype": "text/x-python",
   "name": "python",
   "nbconvert_exporter": "python",
   "pygments_lexer": "ipython3",
   "version": "3.10.13"
  }
 },
 "nbformat": 4,
 "nbformat_minor": 5
}
